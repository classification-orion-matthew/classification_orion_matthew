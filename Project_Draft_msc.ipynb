{
 "cells": [
  {
   "cell_type": "markdown",
   "metadata": {},
   "source": [
    "# Classification Project: What Causes Telco Churn?"
   ]
  },
  {
   "cell_type": "markdown",
   "metadata": {},
   "source": [
    "## --- Pipeline phase 1: Planning: ---"
   ]
  },
  {
   "cell_type": "markdown",
   "metadata": {},
   "source": [
    " ### In this notebook we will explore where drivers for churn or attrition might be based on a dataset snapshot of customers for a telecommunications service.  We will investigate differences between groups of customers and what might make one group or class different from another, and if that has any bearing on their propensity to leave the company.\n",
    " \n",
    " ### Please reference data_dictionary.py for explicit details on features."
   ]
  },
  {
   "cell_type": "code",
   "execution_count": 1,
   "metadata": {},
   "outputs": [],
   "source": [
    "# setting up our environment: \n",
    "\n",
    "import numpy as np\n",
    "import pandas as pd\n",
    "import seaborn as sns\n",
    "%matplotlib inline\n",
    "import matplotlib.pyplot as plt\n",
    "\n",
    "from sklearn.model_selection import train_test_split\n",
    "from sklearn.preprocessing import MinMaxScaler\n",
    "from sklearn.linear_model import LogisticRegression\n",
    "from sklearn.metrics import confusion_matrix\n",
    "from sklearn.metrics import classification_report\n",
    "from sklearn.preprocessing import LabelEncoder\n",
    "\n",
    "from acquire import get_telco_data\n",
    "from telco_prep import *\n",
    "from matplotlib import cm\n",
    "from matplotlib.ticker import FormatStrFormatter\n",
    "\n",
    "\n",
    "from scipy.stats import ttest_ind as ttest\n",
    "from scipy.stats import pearsonr"
   ]
  },
  {
   "cell_type": "markdown",
   "metadata": {},
   "source": [
    "## --- Pipeline phase 2: Acquisition: ---"
   ]
  },
  {
   "cell_type": "code",
   "execution_count": 2,
   "metadata": {},
   "outputs": [],
   "source": [
    "# call our function to pull our dataframe using mySQL:\n",
    "df = get_telco_data()"
   ]
  },
  {
   "cell_type": "code",
   "execution_count": 3,
   "metadata": {},
   "outputs": [
    {
     "name": "stdout",
     "output_type": "stream",
     "text": [
      "  customer_id  gender  senior_citizen partner dependents  tenure  \\\n",
      "0  0003-MKNFE    Male               0      No         No       9   \n",
      "1  0013-MHZWF  Female               0      No        Yes       9   \n",
      "2  0015-UOCOJ  Female               1      No         No       7   \n",
      "3  0023-HGHWL    Male               1      No         No       1   \n",
      "4  0032-PGELS  Female               0     Yes        Yes       1   \n",
      "\n",
      "  phone_service    multiple_lines  internet_service_type_id online_security  \\\n",
      "0           Yes               Yes                         1              No   \n",
      "1           Yes                No                         1              No   \n",
      "2           Yes                No                         1             Yes   \n",
      "3            No  No phone service                         1              No   \n",
      "4            No  No phone service                         1             Yes   \n",
      "\n",
      "             ...             streaming_movies contract_type_id  \\\n",
      "0            ...                          Yes                1   \n",
      "1            ...                          Yes                1   \n",
      "2            ...                           No                1   \n",
      "3            ...                           No                1   \n",
      "4            ...                           No                1   \n",
      "\n",
      "  paperless_billing payment_type_id monthly_charges  total_charges churn  \\\n",
      "0                No               2            59.9          542.4    No   \n",
      "1               Yes               4            69.4         571.45    No   \n",
      "2               Yes               1            48.2         340.35    No   \n",
      "3               Yes               1            25.1           25.1   Yes   \n",
      "4                No               3            30.5           30.5   Yes   \n",
      "\n",
      "    contract_type  internet_service_type               payment_type  \n",
      "0  Month-to-month                    DSL               Mailed check  \n",
      "1  Month-to-month                    DSL    Credit card (automatic)  \n",
      "2  Month-to-month                    DSL           Electronic check  \n",
      "3  Month-to-month                    DSL           Electronic check  \n",
      "4  Month-to-month                    DSL  Bank transfer (automatic)  \n",
      "\n",
      "[5 rows x 24 columns]\n",
      "     customer_id  gender  senior_citizen partner dependents  tenure  \\\n",
      "7038  9950-MTGYX    Male               0     Yes        Yes      28   \n",
      "7039  9953-ZMKSM    Male               0      No         No      63   \n",
      "7040  9964-WBQDJ  Female               0     Yes         No      71   \n",
      "7041  9972-EWRJS  Female               0     Yes        Yes      67   \n",
      "7042  9975-GPKZU    Male               0     Yes        Yes      46   \n",
      "\n",
      "     phone_service multiple_lines  internet_service_type_id  \\\n",
      "7038           Yes             No                         3   \n",
      "7039           Yes            Yes                         3   \n",
      "7040           Yes            Yes                         3   \n",
      "7041           Yes             No                         3   \n",
      "7042           Yes             No                         3   \n",
      "\n",
      "          online_security            ...                 streaming_movies  \\\n",
      "7038  No internet service            ...              No internet service   \n",
      "7039  No internet service            ...              No internet service   \n",
      "7040  No internet service            ...              No internet service   \n",
      "7041  No internet service            ...              No internet service   \n",
      "7042  No internet service            ...              No internet service   \n",
      "\n",
      "     contract_type_id paperless_billing payment_type_id monthly_charges  \\\n",
      "7038                3               Yes               4           20.30   \n",
      "7039                3                No               2           25.25   \n",
      "7040                3               Yes               4           24.40   \n",
      "7041                3               Yes               3           19.25   \n",
      "7042                3                No               4           19.75   \n",
      "\n",
      "      total_charges churn  contract_type  internet_service_type  \\\n",
      "7038         487.95    No       Two year                   None   \n",
      "7039         1559.3    No       Two year                   None   \n",
      "7040         1725.4    No       Two year                   None   \n",
      "7041         1372.9    No       Two year                   None   \n",
      "7042          856.5    No       Two year                   None   \n",
      "\n",
      "                   payment_type  \n",
      "7038    Credit card (automatic)  \n",
      "7039               Mailed check  \n",
      "7040    Credit card (automatic)  \n",
      "7041  Bank transfer (automatic)  \n",
      "7042    Credit card (automatic)  \n",
      "\n",
      "[5 rows x 24 columns]\n",
      "(7043, 24)\n",
      "       senior_citizen       tenure  internet_service_type_id  \\\n",
      "count     7043.000000  7043.000000               7043.000000   \n",
      "mean         0.162147    32.371149                  1.872923   \n",
      "std          0.368612    24.559481                  0.737796   \n",
      "min          0.000000     0.000000                  1.000000   \n",
      "25%          0.000000     9.000000                  1.000000   \n",
      "50%          0.000000    29.000000                  2.000000   \n",
      "75%          0.000000    55.000000                  2.000000   \n",
      "max          1.000000    72.000000                  3.000000   \n",
      "\n",
      "       contract_type_id  payment_type_id  monthly_charges  \n",
      "count       7043.000000      7043.000000      7043.000000  \n",
      "mean           1.690473         2.315633        64.761692  \n",
      "std            0.833755         1.148907        30.090047  \n",
      "min            1.000000         1.000000        18.250000  \n",
      "25%            1.000000         1.000000        35.500000  \n",
      "50%            1.000000         2.000000        70.350000  \n",
      "75%            2.000000         3.000000        89.850000  \n",
      "max            3.000000         4.000000       118.750000  \n",
      "<class 'pandas.core.frame.DataFrame'>\n",
      "RangeIndex: 7043 entries, 0 to 7042\n",
      "Data columns (total 24 columns):\n",
      "customer_id                 7043 non-null object\n",
      "gender                      7043 non-null object\n",
      "senior_citizen              7043 non-null int64\n",
      "partner                     7043 non-null object\n",
      "dependents                  7043 non-null object\n",
      "tenure                      7043 non-null int64\n",
      "phone_service               7043 non-null object\n",
      "multiple_lines              7043 non-null object\n",
      "internet_service_type_id    7043 non-null int64\n",
      "online_security             7043 non-null object\n",
      "online_backup               7043 non-null object\n",
      "device_protection           7043 non-null object\n",
      "tech_support                7043 non-null object\n",
      "streaming_tv                7043 non-null object\n",
      "streaming_movies            7043 non-null object\n",
      "contract_type_id            7043 non-null int64\n",
      "paperless_billing           7043 non-null object\n",
      "payment_type_id             7043 non-null int64\n",
      "monthly_charges             7043 non-null float64\n",
      "total_charges               7043 non-null object\n",
      "churn                       7043 non-null object\n",
      "contract_type               7043 non-null object\n",
      "internet_service_type       7043 non-null object\n",
      "payment_type                7043 non-null object\n",
      "dtypes: float64(1), int64(5), object(18)\n",
      "memory usage: 1.3+ MB\n"
     ]
    }
   ],
   "source": [
    "# get info on dataframe \n",
    "peekatdata(df)"
   ]
  },
  {
   "cell_type": "markdown",
   "metadata": {},
   "source": [
    "## --- Pipeline Phase 3: Preparation: ---"
   ]
  },
  {
   "cell_type": "code",
   "execution_count": 4,
   "metadata": {},
   "outputs": [
    {
     "name": "stderr",
     "output_type": "stream",
     "text": [
      "/Users/mcapper/Documents/Codeup/classification_project/classification_orion_matthew/telco_prep.py:134: FutureWarning: convert_objects is deprecated.  To re-infer data dtypes for object columns, use Series.infer_objects()\n",
      "For all other conversions use the data-type specific converters pd.to_datetime, pd.to_timedelta and pd.to_numeric.\n",
      "  df['total_charges'] = df['total_charges'].convert_objects(convert_numeric=True)\n"
     ]
    }
   ],
   "source": [
    "# call function to prepare dataframe based on parameters outlined\n",
    "# in prepare.py and curriculum instructions\n",
    "df = prep_telco_data(df)"
   ]
  },
  {
   "cell_type": "code",
   "execution_count": 5,
   "metadata": {},
   "outputs": [
    {
     "name": "stdout",
     "output_type": "stream",
     "text": [
      "  customer_id  gender  senior_citizen partner dependents  tenure  \\\n",
      "0  0003-MKNFE    Male               0      No         No       9   \n",
      "1  0013-MHZWF  Female               0      No        Yes       9   \n",
      "2  0015-UOCOJ  Female               1      No         No       7   \n",
      "3  0023-HGHWL    Male               1      No         No       1   \n",
      "4  0032-PGELS  Female               0     Yes        Yes       1   \n",
      "\n",
      "  phone_service    multiple_lines  internet_service_type_id online_security  \\\n",
      "0           Yes               Yes                         1              No   \n",
      "1           Yes                No                         1              No   \n",
      "2           Yes                No                         1             Yes   \n",
      "3            No  No phone service                         1              No   \n",
      "4            No  No phone service                         1             Yes   \n",
      "\n",
      "      ...      tenure_year phone_id household_type_id streaming_services  \\\n",
      "0     ...                1        2                 0                  2   \n",
      "1     ...                1        1                 2                  3   \n",
      "2     ...                1        1                 0                  0   \n",
      "3     ...                1        0                 0                  0   \n",
      "4     ...                1        0                 3                  0   \n",
      "\n",
      "  online_security_backup  gender_e device_protection_e  tech_support_e  \\\n",
      "0                      0         1                   0               0   \n",
      "1                      0         0                   0               2   \n",
      "2                      1         0                   0               0   \n",
      "3                      0         1                   0               0   \n",
      "4                      1         0                   0               0   \n",
      "\n",
      "   paperless_billing_e  int_type_id  \n",
      "0                    0            1  \n",
      "1                    1            1  \n",
      "2                    1            1  \n",
      "3                    1            1  \n",
      "4                    0            1  \n",
      "\n",
      "[5 rows x 34 columns]\n",
      "     customer_id  gender  senior_citizen partner dependents  tenure  \\\n",
      "7038  9950-MTGYX    Male               0     Yes        Yes      28   \n",
      "7039  9953-ZMKSM    Male               0      No         No      63   \n",
      "7040  9964-WBQDJ  Female               0     Yes         No      71   \n",
      "7041  9972-EWRJS  Female               0     Yes        Yes      67   \n",
      "7042  9975-GPKZU    Male               0     Yes        Yes      46   \n",
      "\n",
      "     phone_service multiple_lines  internet_service_type_id  \\\n",
      "7038           Yes             No                         3   \n",
      "7039           Yes            Yes                         3   \n",
      "7040           Yes            Yes                         3   \n",
      "7041           Yes             No                         3   \n",
      "7042           Yes             No                         3   \n",
      "\n",
      "          online_security     ...      tenure_year phone_id household_type_id  \\\n",
      "7038  No internet service     ...                3        1                 3   \n",
      "7039  No internet service     ...                6        2                 0   \n",
      "7040  No internet service     ...                6        2                 1   \n",
      "7041  No internet service     ...                6        1                 3   \n",
      "7042  No internet service     ...                4        1                 3   \n",
      "\n",
      "     streaming_services online_security_backup  gender_e device_protection_e  \\\n",
      "7038                  0                      0         1                   1   \n",
      "7039                  0                      0         1                   1   \n",
      "7040                  0                      0         0                   1   \n",
      "7041                  0                      0         0                   1   \n",
      "7042                  0                      0         1                   1   \n",
      "\n",
      "      tech_support_e  paperless_billing_e  int_type_id  \n",
      "7038               1                    1            0  \n",
      "7039               1                    0            0  \n",
      "7040               1                    1            0  \n",
      "7041               1                    1            0  \n",
      "7042               1                    0            0  \n",
      "\n",
      "[5 rows x 34 columns]\n",
      "(7043, 34)\n",
      "       senior_citizen       tenure  internet_service_type_id  \\\n",
      "count     7043.000000  7043.000000               7043.000000   \n",
      "mean         0.162147    32.371149                  1.872923   \n",
      "std          0.368612    24.559481                  0.737796   \n",
      "min          0.000000     0.000000                  1.000000   \n",
      "25%          0.000000     9.000000                  1.000000   \n",
      "50%          0.000000    29.000000                  2.000000   \n",
      "75%          0.000000    55.000000                  2.000000   \n",
      "max          1.000000    72.000000                  3.000000   \n",
      "\n",
      "       contract_type_id  payment_type_id  monthly_charges  total_charges  \\\n",
      "count       7043.000000      7043.000000      7043.000000    7032.000000   \n",
      "mean           1.690473         2.315633        64.761692    2283.300441   \n",
      "std            0.833755         1.148907        30.090047    2266.771362   \n",
      "min            1.000000         1.000000        18.250000      18.800000   \n",
      "25%            1.000000         1.000000        35.500000     401.450000   \n",
      "50%            1.000000         2.000000        70.350000    1397.475000   \n",
      "75%            2.000000         3.000000        89.850000    3794.737500   \n",
      "max            3.000000         4.000000       118.750000    8684.800000   \n",
      "\n",
      "             churn  tenure_year     phone_id  household_type_id  \\\n",
      "count  7043.000000  7043.000000  7043.000000        7043.000000   \n",
      "mean      0.265370     3.285958     1.325004           1.082209   \n",
      "std       0.441561     2.017253     0.642730           1.226274   \n",
      "min       0.000000     1.000000     0.000000           0.000000   \n",
      "25%       0.000000     1.000000     1.000000           0.000000   \n",
      "50%       0.000000     3.000000     1.000000           1.000000   \n",
      "75%       1.000000     5.000000     2.000000           2.000000   \n",
      "max       1.000000     7.000000     2.000000           3.000000   \n",
      "\n",
      "       streaming_services  online_security_backup     gender_e  \\\n",
      "count         7043.000000             7043.000000  7043.000000   \n",
      "mean             1.160159                0.976430     0.504756   \n",
      "std              1.300784                1.162957     0.500013   \n",
      "min              0.000000                0.000000     0.000000   \n",
      "25%              0.000000                0.000000     0.000000   \n",
      "50%              0.000000                0.000000     1.000000   \n",
      "75%              3.000000                2.000000     1.000000   \n",
      "max              3.000000                3.000000     1.000000   \n",
      "\n",
      "       device_protection_e  tech_support_e  paperless_billing_e  int_type_id  \n",
      "count          7043.000000     7043.000000          7043.000000  7043.000000  \n",
      "mean              0.904444        0.797104             0.592219     1.222916  \n",
      "std               0.879949        0.861551             0.491457     0.778877  \n",
      "min               0.000000        0.000000             0.000000     0.000000  \n",
      "25%               0.000000        0.000000             0.000000     1.000000  \n",
      "50%               1.000000        1.000000             1.000000     1.000000  \n",
      "75%               2.000000        2.000000             1.000000     2.000000  \n",
      "max               2.000000        2.000000             1.000000     2.000000  \n",
      "<class 'pandas.core.frame.DataFrame'>\n",
      "RangeIndex: 7043 entries, 0 to 7042\n",
      "Data columns (total 34 columns):\n",
      "customer_id                 7043 non-null object\n",
      "gender                      7043 non-null object\n",
      "senior_citizen              7043 non-null int64\n",
      "partner                     7043 non-null object\n",
      "dependents                  7043 non-null object\n",
      "tenure                      7043 non-null int64\n",
      "phone_service               7043 non-null object\n",
      "multiple_lines              7043 non-null object\n",
      "internet_service_type_id    7043 non-null int64\n",
      "online_security             7043 non-null object\n",
      "online_backup               7043 non-null object\n",
      "device_protection           7043 non-null object\n",
      "tech_support                7043 non-null object\n",
      "streaming_tv                7043 non-null object\n",
      "streaming_movies            7043 non-null object\n",
      "contract_type_id            7043 non-null int64\n",
      "paperless_billing           7043 non-null object\n",
      "payment_type_id             7043 non-null int64\n",
      "monthly_charges             7043 non-null float64\n",
      "total_charges               7032 non-null float64\n",
      "churn                       7043 non-null int64\n",
      "contract_type               7043 non-null object\n",
      "internet_service_type       7043 non-null object\n",
      "payment_type                7043 non-null object\n",
      "tenure_year                 7043 non-null int64\n",
      "phone_id                    7043 non-null int64\n",
      "household_type_id           7043 non-null int64\n",
      "streaming_services          7043 non-null int64\n",
      "online_security_backup      7043 non-null int64\n",
      "gender_e                    7043 non-null int64\n",
      "device_protection_e         7043 non-null int64\n",
      "tech_support_e              7043 non-null int64\n",
      "paperless_billing_e         7043 non-null int64\n",
      "int_type_id                 7043 non-null int64\n",
      "dtypes: float64(2), int64(16), object(16)\n",
      "memory usage: 1.8+ MB\n"
     ]
    }
   ],
   "source": [
    "# get info on dataframe \n",
    "peekatdata(df)"
   ]
  },
  {
   "cell_type": "code",
   "execution_count": 6,
   "metadata": {},
   "outputs": [],
   "source": [
    "#drop our non-numeric columns as described in function notes\n",
    "df = drop_cols(df)"
   ]
  },
  {
   "cell_type": "code",
   "execution_count": 7,
   "metadata": {},
   "outputs": [
    {
     "name": "stderr",
     "output_type": "stream",
     "text": [
      "/usr/local/anaconda3/lib/python3.7/site-packages/sklearn/model_selection/_split.py:2179: FutureWarning: From version 0.21, test_size will always complement train_size unless both are specified.\n",
      "  FutureWarning)\n"
     ]
    }
   ],
   "source": [
    "# Numeric Scaling: scale the monthly_charges and total_charges data. \n",
    "# Make sure that the parameters for scaling are learned from the training data set.\n",
    "\n",
    "# split the dataframe\n",
    "X = df.drop(['churn'], axis = 1)\n",
    "y = df[['churn']]\n",
    "X_train, X_test, y_train, y_test = train_test_split(X, y, train_size=.70, random_state=123)\n",
    "\n",
    "#concatinate our X and y together to make a single test and train df\n",
    "train = pd.concat([X_train, y_train], axis=1)\n",
    "test = pd.concat([X_test, y_test], axis=1)\n",
    "\n",
    "# scale our monthly and total charges\n",
    "scaler = MinMaxScaler()\n",
    "scaler.fit(train[['monthly_charges', 'total_charges']])\n",
    "\n",
    "train[['monthly_charges', 'total_charges']] = scaler.transform(train[['monthly_charges', 'total_charges']])\n",
    "test[['monthly_charges', 'total_charges']] = scaler.transform(test[['monthly_charges', 'total_charges']])\n"
   ]
  },
  {
   "cell_type": "code",
   "execution_count": 8,
   "metadata": {},
   "outputs": [
    {
     "name": "stdout",
     "output_type": "stream",
     "text": [
      "      senior_citizen  tenure  contract_type_id  payment_type_id  \\\n",
      "1479               0      52                 2                1   \n",
      "2377               0      59                 3                4   \n",
      "6613               0      46                 3                3   \n",
      "6468               0      55                 3                3   \n",
      "2668               0      10                 1                1   \n",
      "\n",
      "      monthly_charges  total_charges  tenure_year  phone_id  \\\n",
      "1479         0.502488       0.399729            5         1   \n",
      "2377         0.716915       0.597190            5         2   \n",
      "6613         0.019900       0.100571            4         1   \n",
      "6468         0.074129       0.164418            5         2   \n",
      "2668         0.613930       0.096746            1         1   \n",
      "\n",
      "      household_type_id  streaming_services  online_security_backup  gender_e  \\\n",
      "1479                  3                   1                       2         1   \n",
      "2377                  3                   3                       3         0   \n",
      "6613                  3                   0                       0         0   \n",
      "6468                  1                   0                       0         1   \n",
      "2668                  1                   1                       0         1   \n",
      "\n",
      "      device_protection_e  tech_support_e  paperless_billing_e  int_type_id  \\\n",
      "1479                    2               2                    1            1   \n",
      "2377                    2               2                    0            1   \n",
      "6613                    1               1                    0            0   \n",
      "6468                    1               1                    0            0   \n",
      "2668                    0               0                    1            2   \n",
      "\n",
      "      churn  \n",
      "1479      0  \n",
      "2377      0  \n",
      "6613      0  \n",
      "6468      0  \n",
      "2668      1  \n",
      "      senior_citizen  tenure  contract_type_id  payment_type_id  \\\n",
      "5218               0      66                 3                3   \n",
      "4060               0      13                 1                2   \n",
      "1346               0      29                 2                4   \n",
      "3454               0      23                 1                1   \n",
      "3582               0      31                 1                4   \n",
      "\n",
      "      monthly_charges  total_charges  tenure_year  phone_id  \\\n",
      "5218         0.869652       0.787641            6         1   \n",
      "4060         0.516418       0.100150            2         1   \n",
      "1346         0.395522       0.197981            3         1   \n",
      "3454         0.605970       0.191340            2         2   \n",
      "3582         0.719403       0.335905            3         2   \n",
      "\n",
      "      household_type_id  streaming_services  online_security_backup  gender_e  \\\n",
      "5218                  0                   3                       1         1   \n",
      "4060                  0                   0                       0         0   \n",
      "1346                  0                   0                       1         0   \n",
      "3454                  0                   0                       2         0   \n",
      "3582                  1                   0                       3         1   \n",
      "\n",
      "      device_protection_e  tech_support_e  paperless_billing_e  int_type_id  \\\n",
      "5218                    2               2                    1            2   \n",
      "4060                    0               0                    1            2   \n",
      "1346                    2               2                    0            1   \n",
      "3454                    0               0                    1            2   \n",
      "3582                    0               2                    1            2   \n",
      "\n",
      "      churn  \n",
      "5218      0  \n",
      "4060      0  \n",
      "1346      0  \n",
      "3454      1  \n",
      "3582      0  \n",
      "(4930, 17)\n",
      "       senior_citizen       tenure  contract_type_id  payment_type_id  \\\n",
      "count     4930.000000  4930.000000       4930.000000      4930.000000   \n",
      "mean         0.163692    32.434483          1.694523         2.308519   \n",
      "std          0.370033    24.612894          0.834919         1.153095   \n",
      "min          0.000000     0.000000          1.000000         1.000000   \n",
      "25%          0.000000     9.000000          1.000000         1.000000   \n",
      "50%          0.000000    29.000000          1.000000         2.000000   \n",
      "75%          0.000000    56.000000          2.000000         3.000000   \n",
      "max          1.000000    72.000000          3.000000         4.000000   \n",
      "\n",
      "       monthly_charges  total_charges  tenure_year     phone_id  \\\n",
      "count      4930.000000    4921.000000  4930.000000  4930.000000   \n",
      "mean          0.462858       0.262079     3.291075     1.322921   \n",
      "std           0.298301       0.261583     2.015627     0.642372   \n",
      "min           0.000000       0.000000     1.000000     0.000000   \n",
      "25%           0.174129       0.044115     1.000000     1.000000   \n",
      "50%           0.518905       0.161020     3.000000     1.000000   \n",
      "75%           0.711940       0.440295     5.000000     2.000000   \n",
      "max           1.000000       1.000000     7.000000     2.000000   \n",
      "\n",
      "       household_type_id  streaming_services  online_security_backup  \\\n",
      "count        4930.000000         4930.000000             4930.000000   \n",
      "mean            1.065112            1.156795                0.978093   \n",
      "std             1.215483            1.304190                1.160452   \n",
      "min             0.000000            0.000000                0.000000   \n",
      "25%             0.000000            0.000000                0.000000   \n",
      "50%             1.000000            0.000000                0.000000   \n",
      "75%             2.000000            3.000000                2.000000   \n",
      "max             3.000000            3.000000                3.000000   \n",
      "\n",
      "          gender_e  device_protection_e  tech_support_e  paperless_billing_e  \\\n",
      "count  4930.000000          4930.000000     4930.000000          4930.000000   \n",
      "mean      0.494726             0.906694        0.791481             0.591278   \n",
      "std       0.500023             0.880929        0.860961             0.491648   \n",
      "min       0.000000             0.000000        0.000000             0.000000   \n",
      "25%       0.000000             0.000000        0.000000             0.000000   \n",
      "50%       0.000000             1.000000        1.000000             1.000000   \n",
      "75%       1.000000             2.000000        2.000000             1.000000   \n",
      "max       1.000000             2.000000        2.000000             1.000000   \n",
      "\n",
      "       int_type_id        churn  \n",
      "count  4930.000000  4930.000000  \n",
      "mean      1.225761     0.263489  \n",
      "std       0.778298     0.440570  \n",
      "min       0.000000     0.000000  \n",
      "25%       1.000000     0.000000  \n",
      "50%       1.000000     0.000000  \n",
      "75%       2.000000     1.000000  \n",
      "max       2.000000     1.000000  \n",
      "<class 'pandas.core.frame.DataFrame'>\n",
      "Int64Index: 4930 entries, 1479 to 3582\n",
      "Data columns (total 17 columns):\n",
      "senior_citizen            4930 non-null int64\n",
      "tenure                    4930 non-null int64\n",
      "contract_type_id          4930 non-null int64\n",
      "payment_type_id           4930 non-null int64\n",
      "monthly_charges           4930 non-null float64\n",
      "total_charges             4921 non-null float64\n",
      "tenure_year               4930 non-null int64\n",
      "phone_id                  4930 non-null int64\n",
      "household_type_id         4930 non-null int64\n",
      "streaming_services        4930 non-null int64\n",
      "online_security_backup    4930 non-null int64\n",
      "gender_e                  4930 non-null int64\n",
      "device_protection_e       4930 non-null int64\n",
      "tech_support_e            4930 non-null int64\n",
      "paperless_billing_e       4930 non-null int64\n",
      "int_type_id               4930 non-null int64\n",
      "churn                     4930 non-null int64\n",
      "dtypes: float64(2), int64(15)\n",
      "memory usage: 693.3 KB\n"
     ]
    }
   ],
   "source": [
    "peekatdata(train)"
   ]
  },
  {
   "cell_type": "code",
   "execution_count": null,
   "metadata": {},
   "outputs": [],
   "source": []
  },
  {
   "cell_type": "markdown",
   "metadata": {},
   "source": [
    "## --- Pipeline phase 4: Exploration: ---"
   ]
  },
  {
   "cell_type": "code",
   "execution_count": null,
   "metadata": {},
   "outputs": [],
   "source": [
    "# create array of our features:\n",
    "cols = []\n",
    "for col in train:\n",
    "    cols.append(col)\n",
    "cols\n"
   ]
  },
  {
   "cell_type": "code",
   "execution_count": null,
   "metadata": {},
   "outputs": [],
   "source": [
    "# #1: could month in which a customer signed up influence churn?\n",
    "# consider this plot: \n",
    "sns.lineplot(x='tenure', y='churn', data=df)"
   ]
  },
  {
   "cell_type": "markdown",
   "metadata": {},
   "source": [
    "#### We can note from this data visualization that there is a downward trend or negative correlation between tenure and attrition.  There are minor spikes that appear to be more correlated with the one year and two year marks than they do with a specific cohort, which overall is roughly consistent.  "
   ]
  },
  {
   "cell_type": "code",
   "execution_count": null,
   "metadata": {},
   "outputs": [],
   "source": [
    "# Are there features that indicate a higher \n",
    "# propensity to churn? like type of internet service, \n",
    "# type of phone service, online security and backup, \n",
    "#senior citizens, paying more than x% of customers with the \n",
    "#same services, etc.?"
   ]
  },
  {
   "cell_type": "code",
   "execution_count": null,
   "metadata": {
    "scrolled": false
   },
   "outputs": [],
   "source": [
    "features = ['senior_citizen','int_type_id','contract_type_id','payment_type_id', 'tenure_year', 'phone_id', 'household_type_id', 'streaming_services', 'online_security_backup','gender_e', 'device_protection_e', 'tech_support_e', 'paperless_billing_e']\n",
    "\n",
    "_, ax = plt.subplots(nrows=13, ncols=1, figsize=(10,80))\n",
    "\n",
    "churn_rate = train.churn.mean()\n",
    "\n",
    "for i, feature in enumerate(features):\n",
    "    sns.barplot(feature, 'churn', data=train, ax=ax[i], alpha=.5)\n",
    "    ax[i].set_ylabel('Churn Rate')\n",
    "    ax[i].axhline(churn_rate, ls='--', color='grey')"
   ]
  },
  {
   "cell_type": "markdown",
   "metadata": {},
   "source": [
    "#### From these visualizations, we can see that certain features lead to stronger churning trends.  Off the cuff, we notice that seniors have a stronger tendency to churn, as well as fiber customers and  customers without tech support.  People that have paperless billing churn more on average as well as customers that pay by electronic check, which are intrinsically bound."
   ]
  },
  {
   "cell_type": "code",
   "execution_count": null,
   "metadata": {},
   "outputs": [],
   "source": []
  },
  {
   "cell_type": "code",
   "execution_count": null,
   "metadata": {},
   "outputs": [],
   "source": [
    "#Is there a price threshold for specific services where the \n",
    "#likelihood of churn increases once price for those services \n",
    "# goes past that point? If so, what is that point for what \n",
    "#service(s)?"
   ]
  },
  {
   "cell_type": "code",
   "execution_count": null,
   "metadata": {},
   "outputs": [],
   "source": [
    "sns.swarmplot(x=\"paperless_billing_e\", y=\"monthly_charges\", data=train, hue=\"churn\", palette=\"Set2\")\n",
    "ax = sns.boxplot(x=\"paperless_billing_e\", y=\"monthly_charges\", data=train,\n",
    "        showcaps=True,boxprops={'facecolor':'None'},\n",
    "        showfliers=True,whiskerprops={'linewidth':0})\n",
    "\n"
   ]
  },
  {
   "cell_type": "code",
   "execution_count": null,
   "metadata": {},
   "outputs": [],
   "source": [
    "sns.swarmplot(x=\"tech_support_e\", y=\"monthly_charges\", data=train, hue=\"churn\", palette=\"Set2\")\n",
    "ax = sns.boxplot(x=\"tech_support_e\", y=\"monthly_charges\", data=train,\n",
    "        showcaps=True,boxprops={'facecolor':'None'},\n",
    "        showfliers=True,whiskerprops={'linewidth':0})"
   ]
  },
  {
   "cell_type": "code",
   "execution_count": null,
   "metadata": {},
   "outputs": [],
   "source": [
    "sns.swarmplot(x=\"tenure_year\", y=\"monthly_charges\", data=train, hue=\"churn\", palette=\"Set2\")\n",
    "ax = sns.boxplot(x=\"tenure_year\", y=\"monthly_charges\", data=train,\n",
    "        showcaps=True,boxprops={'facecolor':'None'},\n",
    "        showfliers=True,whiskerprops={'linewidth':0})"
   ]
  },
  {
   "cell_type": "code",
   "execution_count": null,
   "metadata": {
    "scrolled": true
   },
   "outputs": [],
   "source": [
    "sns.swarmplot(x=\"int_type_id\", y=\"monthly_charges\", data=train, hue=\"churn\", palette=\"Set2\")\n",
    "ax = sns.boxplot(x=\"int_type_id\", y=\"monthly_charges\", data=train,\n",
    "        showcaps=True,boxprops={'facecolor':'None'},\n",
    "        showfliers=True,whiskerprops={'linewidth':0})"
   ]
  },
  {
   "cell_type": "code",
   "execution_count": null,
   "metadata": {},
   "outputs": [],
   "source": []
  },
  {
   "cell_type": "code",
   "execution_count": null,
   "metadata": {},
   "outputs": [],
   "source": [
    "higher_monthly_charges = train[['churn']][train.monthly_charges > train.monthly_charges.quantile(0.60)]\n",
    "lower_monthly_charges = train[['churn']][train.monthly_charges < train.monthly_charges.quantile(0.60)]\n",
    "ttest(higher_monthly_charges, lower_monthly_charges)"
   ]
  },
  {
   "cell_type": "code",
   "execution_count": null,
   "metadata": {},
   "outputs": [],
   "source": [
    "higher_monthly_charges = train[['monthly_charges', 'churn']][train.monthly_charges > train.monthly_charges.quantile(0.70)]\n",
    "lower_monthly_charges = train[['monthly_charges', 'churn']][train.monthly_charges < train.monthly_charges.quantile(0.70)]"
   ]
  },
  {
   "cell_type": "markdown",
   "metadata": {},
   "source": [
    "### # 4: is the churn rate significantly different for those on a month-to-month plan after month 12 than those on 1 year contracts after 12th month?\n"
   ]
  },
  {
   "cell_type": "code",
   "execution_count": null,
   "metadata": {},
   "outputs": [],
   "source": [
    "year_old_monthlies = train[train.tenure >= 12][train.contract_type_id == 1]\n",
    "year_old_monthlies.head()\n",
    "year_old_contract = train[train.tenure >= 12][train.contract_type_id == 2]\n",
    "ttest(year_old_monthlies.churn, year_old_contract.churn)"
   ]
  },
  {
   "cell_type": "code",
   "execution_count": null,
   "metadata": {},
   "outputs": [],
   "source": [
    "# 5: are the mean monthly charges for those who have churned significantly different than for\n",
    "# those who have not churned?\n",
    "has_churned = train[train.churn == 1]\n",
    "not_churned = train[train.churn == 0]\n",
    "for col in train:\n",
    "    ttest(has_churned.monthly_charges, not_churned.monthly_charges)\n",
    "ttest(has_churned.monthly_charges, not_churned.monthly_charges)\n",
    "ttest(has_churned[['int_type_id', 'monthly_charges']].monthly_charges, not_churned[['int_type_id', 'monthly_charges']].monthly_charges)"
   ]
  },
  {
   "cell_type": "code",
   "execution_count": null,
   "metadata": {},
   "outputs": [],
   "source": [
    "# How much of monthly_charges can be explained by internet_service_type? \n",
    "# (hint: correlation test). State your hypotheses and your conclusion clearly.\n",
    "cor_test = train[['monthly_charges', 'int_type_id']]\n",
    "cor_test.groupby('int_type_id').mean()\n",
    "# sns.heatmap(cor_test.corr(), annot=True)\n",
    "# pearsonr(cor_test.internet_service_type_id, cor_test.monthly_charges)\n",
    "# pearsonr()"
   ]
  },
  {
   "cell_type": "markdown",
   "metadata": {},
   "source": [
    "### #6: How much of monthly_charges can be explained by internet_service_type? (hint: correlation test). State your hypotheses and your conclusion clearly."
   ]
  },
  {
   "cell_type": "code",
   "execution_count": null,
   "metadata": {},
   "outputs": [],
   "source": [
    "pd.crosstab(train.int_type_id, train.churn, margins=True).style.background_gradient(cmap='YlOrRd')"
   ]
  },
  {
   "cell_type": "code",
   "execution_count": null,
   "metadata": {},
   "outputs": [],
   "source": [
    "pearsonr(train.int_type_id, train.monthly_charges)\n"
   ]
  },
  {
   "cell_type": "code",
   "execution_count": null,
   "metadata": {},
   "outputs": [],
   "source": [
    "no_int = train[train.int_type_id == 0]\n",
    "dsl_int = train[train.int_type_id == 1]\n",
    "fbr_int = train[train.int_type_id == 2]"
   ]
  },
  {
   "cell_type": "code",
   "execution_count": null,
   "metadata": {},
   "outputs": [],
   "source": [
    "for i in (no_int, dsl_int, fbr_int):\n",
    "    print(ttest(i.monthly_charges, i.churn))\n",
    "    print(pearsonr(i.monthly_charges, i.churn))"
   ]
  },
  {
   "cell_type": "code",
   "execution_count": null,
   "metadata": {},
   "outputs": [],
   "source": [
    "features = ['senior_citizen','int_type_id','contract_type_id','payment_type_id', 'tenure_year', 'phone_id', 'household_type_id', 'streaming_services', 'online_security_backup','gender_e', 'device_protection_e', 'tech_support_e', 'paperless_billing_e']\n",
    "\n",
    "for feature in features:\n",
    "    print(ttest(has_churned[[feature, 'monthly_charges']].monthly_charges, not_churned[[feature, 'monthly_charges']].monthly_charges))\n",
    "    "
   ]
  },
  {
   "cell_type": "code",
   "execution_count": null,
   "metadata": {},
   "outputs": [],
   "source": [
    "# figure = figsize(18,5)\n",
    "sns.violinplot(x='tenure_year', y='monthly_charges', hue='churn', data=df)"
   ]
  },
  {
   "cell_type": "code",
   "execution_count": null,
   "metadata": {},
   "outputs": [],
   "source": [
    "sns.violinplot(x='tenure_year', y='total_charges', hue='churn', data=df)"
   ]
  },
  {
   "cell_type": "code",
   "execution_count": null,
   "metadata": {},
   "outputs": [],
   "source": []
  }
 ],
 "metadata": {
  "kernelspec": {
   "display_name": "Python 3",
   "language": "python",
   "name": "python3"
  },
  "language_info": {
   "codemirror_mode": {
    "name": "ipython",
    "version": 3
   },
   "file_extension": ".py",
   "mimetype": "text/x-python",
   "name": "python",
   "nbconvert_exporter": "python",
   "pygments_lexer": "ipython3",
   "version": "3.7.1"
  }
 },
 "nbformat": 4,
 "nbformat_minor": 2
}
