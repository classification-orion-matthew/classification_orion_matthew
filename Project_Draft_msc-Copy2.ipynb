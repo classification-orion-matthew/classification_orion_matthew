{
 "cells": [
  {
   "cell_type": "markdown",
   "metadata": {},
   "source": [
    "# Classification Project: What Causes Telco Churn?"
   ]
  },
  {
   "cell_type": "markdown",
   "metadata": {},
   "source": [
    "## --- Pipeline phase 1: Planning: ---"
   ]
  },
  {
   "cell_type": "markdown",
   "metadata": {},
   "source": [
    " ### In this notebook we will explore where drivers for churn or attrition might be based on a dataset snapshot of customers for a telecommunications service.  We will investigate differences between groups of customers and what might make one group or class different from another, and if that has any bearing on their propensity to leave the company.\n",
    " \n",
    " ### Please reference data_dictionary.py for explicit details on features."
   ]
  },
  {
   "cell_type": "code",
   "execution_count": 139,
   "metadata": {},
   "outputs": [],
   "source": [
    "# setting up our environment: \n",
    "\n",
    "import warnings\n",
    "warnings.filterwarnings(\"ignore\")\n",
    "\n",
    "import numpy as np\n",
    "import pandas as pd\n",
    "import seaborn as sns\n",
    "%matplotlib inline\n",
    "import matplotlib.pyplot as plt\n",
    "\n",
    "from sklearn.model_selection import train_test_split\n",
    "from sklearn.preprocessing import MinMaxScaler\n",
    "from sklearn.linear_model import LogisticRegression\n",
    "from sklearn.metrics import confusion_matrix\n",
    "from sklearn.metrics import classification_report\n",
    "from sklearn.preprocessing import LabelEncoder\n",
    "from sklearn import tree\n",
    "import graphviz\n",
    "from sklearn.tree import export_graphviz\n",
    "from sklearn.tree import DecisionTreeClassifier\n",
    "\n",
    "\n",
    "from acquire import get_telco_data\n",
    "from telco_prep import *\n",
    "from matplotlib import cm\n",
    "from matplotlib.ticker import FormatStrFormatter\n",
    "\n",
    "\n",
    "from scipy.stats import ttest_ind as ttest\n",
    "from scipy.stats import pearsonr"
   ]
  },
  {
   "cell_type": "markdown",
   "metadata": {},
   "source": [
    "## --- Pipeline phase 2: Acquisition: ---"
   ]
  },
  {
   "cell_type": "code",
   "execution_count": 140,
   "metadata": {},
   "outputs": [],
   "source": [
    "# call our function to pull our dataframe using mySQL:\n",
    "df = get_telco_data()"
   ]
  },
  {
   "cell_type": "markdown",
   "metadata": {},
   "source": [
    "## --- Pipeline Phase 3: Preparation: ---"
   ]
  },
  {
   "cell_type": "code",
   "execution_count": 142,
   "metadata": {},
   "outputs": [],
   "source": [
    "# call function to prepare dataframe based on parameters outlined\n",
    "# in prepare.py and curriculum instructions\n",
    "df = prep_telco_data(df)"
   ]
  },
  {
   "cell_type": "code",
   "execution_count": 147,
   "metadata": {},
   "outputs": [],
   "source": [
    "def drop_totals(df):\n",
    "    df = df[pd.notna(df.total_charges)]\n",
    "    return df\n",
    "    \n"
   ]
  },
  {
   "cell_type": "code",
   "execution_count": 148,
   "metadata": {},
   "outputs": [
    {
     "name": "stdout",
     "output_type": "stream",
     "text": [
      "<class 'pandas.core.frame.DataFrame'>\n",
      "Int64Index: 4922 entries, 463 to 3587\n",
      "Data columns (total 17 columns):\n",
      "senior_citizen            4922 non-null int64\n",
      "tenure                    4922 non-null int64\n",
      "contract_type_id          4922 non-null int64\n",
      "payment_type_id           4922 non-null int64\n",
      "monthly_charges           4922 non-null float64\n",
      "total_charges             4922 non-null float64\n",
      "tenure_year               4922 non-null int64\n",
      "phone_id                  4922 non-null int64\n",
      "household_type_id         4922 non-null int64\n",
      "streaming_services        4922 non-null int64\n",
      "online_security_backup    4922 non-null int64\n",
      "gender_e                  4922 non-null int64\n",
      "device_protection_e       4922 non-null int64\n",
      "tech_support_e            4922 non-null int64\n",
      "paperless_billing_e       4922 non-null int64\n",
      "int_type_id               4922 non-null int64\n",
      "churn                     4922 non-null int64\n",
      "dtypes: float64(2), int64(15)\n",
      "memory usage: 692.2 KB\n"
     ]
    }
   ],
   "source": [
    "df = drop_totals(df)\n",
    "train = drop_totals(train)\n",
    "train.info()"
   ]
  },
  {
   "cell_type": "markdown",
   "metadata": {},
   "source": [
    "## --- Pipeline phase 4: Exploration: ---"
   ]
  },
  {
   "cell_type": "code",
   "execution_count": 166,
   "metadata": {},
   "outputs": [],
   "source": [
    "# Numeric Scaling: scale the monthly_charges and total_charges data. \n",
    "# Make sure that the parameters for scaling are learned from the training data set.\n",
    "\n",
    "# split the dataframe\n",
    "X = df.drop(['churn'], axis = 1)\n",
    "y = df[['churn']]\n",
    "X_train, X_test, y_train, y_test = train_test_split(X, y, train_size=.70, random_state=123)\n",
    "\n",
    "#concatinate our X and y together to make a single test and train df\n",
    "train = pd.concat([X_train, y_train], axis=1)\n",
    "test = pd.concat([X_test, y_test], axis=1)\n",
    "\n",
    "# scale our monthly and total charges\n",
    "scaler = MinMaxScaler()\n",
    "scaler.fit(train[['monthly_charges', 'total_charges']])\n",
    "\n",
    "train[['monthly_charges', 'total_charges']] = scaler.transform(train[['monthly_charges', 'total_charges']])\n",
    "test[['monthly_charges', 'total_charges']] = scaler.transform(test[['monthly_charges', 'total_charges']])\n"
   ]
  },
  {
   "cell_type": "code",
   "execution_count": 167,
   "metadata": {},
   "outputs": [],
   "source": [
    "X_train = X_train.drop(columns=(['gender_e', 'phone_id', 'streaming_services', 'online_security_backup',\n",
    "                                  'senior_citizen',]))\n",
    "X_test = X_test.drop(columns=(['gender_e', 'phone_id', 'streaming_services', 'online_security_backup',\n",
    "                                  'senior_citizen',]))"
   ]
  },
  {
   "cell_type": "code",
   "execution_count": 168,
   "metadata": {},
   "outputs": [],
   "source": [
    "logit = LogisticRegression(C=1, class_weight='balanced', random_state=123, solver='newton-cg')"
   ]
  },
  {
   "cell_type": "code",
   "execution_count": 169,
   "metadata": {},
   "outputs": [
    {
     "data": {
      "text/plain": [
       "LogisticRegression(C=1, class_weight='balanced', dual=False,\n",
       "          fit_intercept=True, intercept_scaling=1, max_iter=100,\n",
       "          multi_class='warn', n_jobs=None, penalty='l2', random_state=123,\n",
       "          solver='newton-cg', tol=0.0001, verbose=0, warm_start=False)"
      ]
     },
     "execution_count": 169,
     "metadata": {},
     "output_type": "execute_result"
    }
   ],
   "source": [
    "logit.fit(X_train, y_train)"
   ]
  },
  {
   "cell_type": "code",
   "execution_count": 170,
   "metadata": {},
   "outputs": [
    {
     "name": "stdout",
     "output_type": "stream",
     "text": [
      "Coefficient1: \n",
      " [[-7.53380741e-02 -6.99276269e-01 -1.57450687e-01  2.50413102e-03\n",
      "   2.39529797e-04  3.50316356e-01 -8.27884594e-02 -3.62627785e-03\n",
      "  -2.28611066e-01  3.40781651e-01  7.61680314e-01]]\n",
      "Intercept1: \n",
      " [0.62501913]\n"
     ]
    }
   ],
   "source": [
    "print('Coefficient1: \\n', logit.coef_)\n",
    "print('Intercept1: \\n', logit.intercept_)"
   ]
  },
  {
   "cell_type": "code",
   "execution_count": 171,
   "metadata": {},
   "outputs": [
    {
     "name": "stdout",
     "output_type": "stream",
     "text": [
      "Accuracy of Logistic Regression classifier  on training set: 0.74\n"
     ]
    }
   ],
   "source": [
    "y_pred = logit.predict(X_train)\n",
    "y_pred_proba = logit.predict_proba(X_train)\n",
    "\n",
    "print('Accuracy of Logistic Regression classifier  on training set: {:.2f}'\n",
    "     .format(logit.score(X_train, y_train)))"
   ]
  },
  {
   "cell_type": "code",
   "execution_count": 177,
   "metadata": {
    "scrolled": true
   },
   "outputs": [
    {
     "name": "stdout",
     "output_type": "stream",
     "text": [
      "[[2610 1015]\n",
      " [ 242 1055]]\n",
      "0.8134155744024673\n"
     ]
    }
   ],
   "source": [
    "print(confusion_matrix(y_train, y_pred))\n",
    "\n",
    "tpp = confusion_matrix(y_train, y_pred)\n",
    "\n",
    "print(tpp[1][1] / (tpp[1][1] + tpp[1][0]))\n"
   ]
  },
  {
   "cell_type": "code",
   "execution_count": 173,
   "metadata": {},
   "outputs": [
    {
     "name": "stdout",
     "output_type": "stream",
     "text": [
      "              precision    recall  f1-score   support\n",
      "\n",
      "           0       0.92      0.72      0.81      3625\n",
      "           1       0.51      0.81      0.63      1297\n",
      "\n",
      "   micro avg       0.74      0.74      0.74      4922\n",
      "   macro avg       0.71      0.77      0.72      4922\n",
      "weighted avg       0.81      0.74      0.76      4922\n",
      "\n"
     ]
    }
   ],
   "source": [
    "print(classification_report(y_train, y_pred))"
   ]
  },
  {
   "cell_type": "code",
   "execution_count": 174,
   "metadata": {},
   "outputs": [
    {
     "name": "stdout",
     "output_type": "stream",
     "text": [
      "Accuracy of Logistic Regression classifier on test set: 0.73\n"
     ]
    }
   ],
   "source": [
    "print('Accuracy of Logistic Regression classifier on test set: {:.2f}'\n",
    "     .format(logit.score(X_test, y_test)))"
   ]
  },
  {
   "cell_type": "code",
   "execution_count": 179,
   "metadata": {},
   "outputs": [
    {
     "data": {
      "text/plain": [
       "<matplotlib.collections.PathCollection at 0x1a1969ae48>"
      ]
     },
     "execution_count": 179,
     "metadata": {},
     "output_type": "execute_result"
    },
    {
     "data": {
      "image/png": "[encoded data removed]",
      "text/plain": [
       "<Figure size 432x288 with 1 Axes>"
      ]
     },
     "metadata": {
      "needs_background": "light"
     },
     "output_type": "display_data"
    }
   ],
   "source": [
    "y_pred_proba = [i[1] for i in y_pred_proba]\n",
    "fig = plt.figure()\n",
    "ax = fig.add_subplot(111)\n",
    "ax.scatter(y_pred_proba, y_pred)"
   ]
  }
 ],
 "metadata": {
  "kernelspec": {
   "display_name": "Python 3",
   "language": "python",
   "name": "python3"
  },
  "language_info": {
   "codemirror_mode": {
    "name": "ipython",
    "version": 3
   },
   "file_extension": ".py",
   "mimetype": "text/x-python",
   "name": "python",
   "nbconvert_exporter": "python",
   "pygments_lexer": "ipython3",
   "version": "3.7.1"
  }
 },
 "nbformat": 4,
 "nbformat_minor": 2
}
